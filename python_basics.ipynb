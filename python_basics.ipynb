{
  "nbformat": 4,
  "nbformat_minor": 0,
  "metadata": {
    "colab": {
      "provenance": []
    },
    "kernelspec": {
      "name": "python3",
      "display_name": "Python 3"
    },
    "language_info": {
      "name": "python"
    }
  },
  "cells": [
    {
      "cell_type": "markdown",
      "source": [
        "#***Assignment 1***\n"
      ],
      "metadata": {
        "id": "G_SpXeIn8IHj"
      }
    },
    {
      "cell_type": "markdown",
      "source": [
        "##1- What is python and why is it popular?\n"
      ],
      "metadata": {
        "id": "_ipUpNRZ9MI_"
      }
    },
    {
      "cell_type": "markdown",
      "source": [
        "1- Python is a programming language that is easy to understand and write. Making it a popular choice developers and programmers.\n",
        "python has large and active community of developers, an extensive standard library, and third party packages for various domains thats why is it popular"
      ],
      "metadata": {
        "id": "Sa2_zNsj9MM4"
      }
    },
    {
      "cell_type": "markdown",
      "source": [
        "##2-  What is an interpreter in Python?"
      ],
      "metadata": {
        "id": "fvSrEodO9Mhg"
      }
    },
    {
      "cell_type": "markdown",
      "source": [
        "2- In Python, an interpreter is the software that executes Python code directly, line by line, without the need to first compile it into a separate machine language file. The Python interpreter acts as a middleman between your Python script and the computer's hardware, translating the code into instructions the computer can understand and execute."
      ],
      "metadata": {
        "id": "gjDcaK5p_GGz"
      }
    },
    {
      "cell_type": "markdown",
      "source": [
        "##3-What are pre-defined keywords in Python?\n"
      ],
      "metadata": {
        "id": "OwRTnBJ2_v4B"
      }
    },
    {
      "cell_type": "markdown",
      "source": [
        "keyword are reseved word in python that have special meanings The keyword cannot be used as an identifier, function, or variable name.\n",
        "Keywors are case-sensitive and cannot be redifined or overridden with a python program.\n"
      ],
      "metadata": {
        "id": "0aHNF4cqFNtV"
      }
    },
    {
      "cell_type": "markdown",
      "source": [
        "##4- Can keywords be used as variable names?"
      ],
      "metadata": {
        "id": "nV8y9AuqF_K8"
      }
    },
    {
      "cell_type": "markdown",
      "source": [
        "No, keywords cannot be used as variable names in Python because they have special meanings and are reserved for specific purposes in the language. Using a keyword as a variable name would result in a syntax error."
      ],
      "metadata": {
        "id": "25fm_pfAG6Wr"
      }
    },
    {
      "cell_type": "markdown",
      "source": [
        "##5- What is mutability in Python?"
      ],
      "metadata": {
        "id": "7rEVI0BdHO2A"
      }
    },
    {
      "cell_type": "markdown",
      "source": [
        "Mutable objects can be modified after creation. This means you can change their content without creating a new object."
      ],
      "metadata": {
        "id": "-QMfLwpgHuOb"
      }
    },
    {
      "cell_type": "markdown",
      "source": [
        "##6-Why are lists mutable, but tuples are immutable?"
      ],
      "metadata": {
        "id": "-NXeJDsuHuTl"
      }
    },
    {
      "cell_type": "markdown",
      "source": [
        "The main difference between tuples and lists is that tuples are immutable, meaning their contents cannot be changed after creation, while lists are mutable and can be modified.Tuples can't be changed after they're created, but lists can be modified."
      ],
      "metadata": {
        "id": "vFC4O4E1HuYM"
      }
    },
    {
      "cell_type": "markdown",
      "source": [
        "##7- What is the difference between “==” and “is” operators in Python?"
      ],
      "metadata": {
        "id": "xRzdq2tQSncR"
      }
    },
    {
      "cell_type": "markdown",
      "source": [
        "Comparision opreaters(==) - Campare two value and return a boolean value."
      ],
      "metadata": {
        "id": "GkZFaeXDSngR"
      }
    },
    {
      "cell_type": "markdown",
      "source": [
        "Identity operator (is) - Compares the location of two object/variable"
      ],
      "metadata": {
        "id": "I4BZhBqKSnmq"
      }
    },
    {
      "cell_type": "markdown",
      "source": [
        "##8- What are logical operators in Python?"
      ],
      "metadata": {
        "id": "JrSrQfErT_Gy"
      }
    },
    {
      "cell_type": "markdown",
      "source": [
        "Logical operators in Python are used to combine conditional statements and evaluate expressions based on logical relationships. They return a Boolean value (True or False) depending on the truthiness of the operands.\n",
        "\n",
        "####**Types of Logical Operators in Python**\n",
        "Python provides three logical operators:\n",
        "\n",
        "1. and (Logical AND)\n",
        "\n",
        "Returns True if both operands are true; otherwise, returns False.\n",
        "2. or (Logical OR)\n",
        "\n",
        "Returns True if at least one operand is true; otherwise, returns False.\n",
        "3. not (Logical NOT)\n",
        "\n",
        "Returns the opposite of the operand's truth value. If the operand is True, it returns False.\n"
      ],
      "metadata": {
        "id": "qat1I3S8T_Uj"
      }
    },
    {
      "cell_type": "markdown",
      "source": [
        "##9 -What is type casting in Python?"
      ],
      "metadata": {
        "id": "iAXVvZ30X9Eu"
      }
    },
    {
      "cell_type": "markdown",
      "source": [
        "Type casting in Python refers to converting a variable from one data type to another. This is often done to ensure compatibility between operations or to manipulate data in a specific format.\n",
        "\n",
        "\n",
        "\n"
      ],
      "metadata": {
        "id": "IUzp37PcX9dd"
      }
    },
    {
      "cell_type": "markdown",
      "source": [
        "##10- What is the difference between implicit and explicit type casting?"
      ],
      "metadata": {
        "id": "F7z7ce9LX9hy"
      }
    },
    {
      "cell_type": "markdown",
      "source": [
        "###Implicit Type Casting\n",
        "This occurs automatically when Python converts a smaller data type to a larger data type during an operation to avoid data loss."
      ],
      "metadata": {
        "id": "dg4Ob3PzoL3R"
      }
    },
    {
      "cell_type": "code",
      "source": [
        "a = 5      # Integer\n",
        "b = 2.5    # Float\n",
        "c = a + b  # Python converts `a` (int) to `float` automatically\n",
        "print(c)\n",
        "print(type(c))\n"
      ],
      "metadata": {
        "colab": {
          "base_uri": "https://localhost:8080/"
        },
        "id": "a7NAlFXhokY4",
        "outputId": "bd2ccb2c-1cd2-4fb4-a658-b1df2985075e"
      },
      "execution_count": null,
      "outputs": [
        {
          "output_type": "stream",
          "name": "stdout",
          "text": [
            "7.5\n",
            "<class 'float'>\n"
          ]
        }
      ]
    },
    {
      "cell_type": "markdown",
      "source": [
        "###Explicit Type Casting\n",
        "This requires the programmer to explicitly convert the data type using Python's built-in functions.\n",
        "\n",
        "Common Type Casting Functions:\n",
        "\n",
        "int() - Converts to an integer,\n",
        "float() - Converts to a floating-point number,\n",
        "str() - Converts to a string,\n",
        "list() - Converts to a list,\n",
        "tuple() - Converts to a tuple,\n",
        "set() - Converts to a set .\n"
      ],
      "metadata": {
        "id": "BVUwJ5eroMDI"
      }
    },
    {
      "cell_type": "markdown",
      "source": [
        "##11- What is the purpose of conditional statements in Python?"
      ],
      "metadata": {
        "id": "-DlHei-Cpwd0"
      }
    },
    {
      "cell_type": "markdown",
      "source": [
        "The purpose of conditional statements in Python is to control the flow of a program by allowing it to make decisions based on specific conditions. They enable the program to execute different blocks of code depending on whether a condition evaluates to True or False. This decision-making capability makes programs dynamic and responsive to different scenarios."
      ],
      "metadata": {
        "id": "eBojv5m7pwiq"
      }
    },
    {
      "cell_type": "markdown",
      "source": [
        "##12- How does the elif statement work?"
      ],
      "metadata": {
        "id": "CpagLhW0pxLY"
      }
    },
    {
      "cell_type": "markdown",
      "source": [
        "###How the elif Statement Works:\n",
        "####The if statement is evaluated first.\n",
        "\n",
        "1. If if evaluates to True, its block of code is executed, and the rest of the conditional statements (including elif and else) are skipped.\n",
        "\n",
        "####If the if condition is False, the program evaluates the next elif condition.\n",
        "\n",
        "2. If the elif condition is True, its block of code is executed, and the remaining conditions are skipped.\n",
        "3. If no if or elif conditions are True, the else block is executed (if it exists)."
      ],
      "metadata": {
        "id": "qQmQnwrQpxWP"
      }
    },
    {
      "cell_type": "code",
      "source": [
        "score = 85\n",
        "\n",
        "if score >= 90:\n",
        "    print(\"Grade: A\")\n",
        "elif score >= 80:\n",
        "    print(\"Grade: B\")\n",
        "elif score >= 70:\n",
        "    print(\"Grade: C\")\n",
        "else:\n",
        "    print(\"Grade: D\")\n"
      ],
      "metadata": {
        "colab": {
          "base_uri": "https://localhost:8080/"
        },
        "id": "1SLHrw0bwuc1",
        "outputId": "63cfd273-67bf-4738-a5c2-685853d7d648"
      },
      "execution_count": null,
      "outputs": [
        {
          "output_type": "stream",
          "name": "stdout",
          "text": [
            "Grade: B\n"
          ]
        }
      ]
    },
    {
      "cell_type": "markdown",
      "source": [
        "##13- What is the difference between for and while loops?"
      ],
      "metadata": {
        "id": "SJjJd7V9w6-V"
      }
    },
    {
      "cell_type": "markdown",
      "source": [
        "###for Loop\n",
        "The for loop is used when the number of iterations is known or when iterating over a sequence like a list, tuple, string, or range.\n",
        "\n",
        "Characteristics:\n",
        "* Iterates over a predefined sequence or range.\n",
        "* Stops automatically when the sequence is fully traversed.\n",
        "* Best for scenarios where the number of iterations is known in advance.\n",
        "\n",
        "###while Loop\n",
        "The while loop is used when the number of iterations is not known in advance and depends on a condition being true.\n",
        "\n",
        "Characteristics:\n",
        "* Executes as long as the condition evaluates to True.\n",
        "* Useful for scenarios where the number of iterations depends on dynamic conditions.\n",
        "* Requires careful handling of the condition to avoid infinite loops."
      ],
      "metadata": {
        "id": "pWerAfjww7RV"
      }
    },
    {
      "cell_type": "markdown",
      "source": [
        "##14- Describe a scenario where a while loop is more suitable than a for loop."
      ],
      "metadata": {
        "id": "-FUFtCvt0bHg"
      }
    },
    {
      "cell_type": "markdown",
      "source": [
        "A while loop is more suitable than a for loop in scenarios where the number of iterations is unknown beforehand and depends on a dynamic condition being met. One common example is a user input validation scenario.\n",
        "###User Input Validation\n",
        "Imagine creating a program that asks a user to input a positive number. The program should repeatedly prompt the user until a valid input is provided.\n",
        "\n",
        "Why **(while)** is more suitable:\n",
        "\n",
        "The number of iterations is not fixed because it depends on when the user enters a valid input.\n",
        "A while loop is perfect for continuously checking the condition (valid input) and only exiting when the condition is satisfied."
      ],
      "metadata": {
        "id": "v0ULt9rr0bC0"
      }
    },
    {
      "cell_type": "markdown",
      "source": [
        "#**Practical Questions**"
      ],
      "metadata": {
        "id": "N9PILYCh3R3M"
      }
    },
    {
      "cell_type": "markdown",
      "source": [
        "##1- Write a Python program to print \"Hello, World!\"?"
      ],
      "metadata": {
        "id": "eA5zNKhY3Rme"
      }
    },
    {
      "cell_type": "code",
      "source": [
        "print(\"Hello World\")"
      ],
      "metadata": {
        "colab": {
          "base_uri": "https://localhost:8080/"
        },
        "id": "1YEfLOVB22ER",
        "outputId": "fd197f68-f868-45f4-d6ab-355e1d9168a9"
      },
      "execution_count": null,
      "outputs": [
        {
          "output_type": "stream",
          "name": "stdout",
          "text": [
            "Hello World\n"
          ]
        }
      ]
    },
    {
      "cell_type": "markdown",
      "source": [
        "##2- Write a Python program that displays your name and age."
      ],
      "metadata": {
        "id": "rTYXxUO_4AC4"
      }
    },
    {
      "cell_type": "code",
      "source": [
        "your_name = input(\"Enter your name:\")\n",
        "your_age = input(\"Enter your age:\")\n",
        "print(f\"My name is {your_name} and My age is {your_age}\")"
      ],
      "metadata": {
        "colab": {
          "base_uri": "https://localhost:8080/"
        },
        "id": "HMjlHhE831Nw",
        "outputId": "25079ad7-2af9-4c6d-9d59-8e2f4be07622"
      },
      "execution_count": null,
      "outputs": [
        {
          "output_type": "stream",
          "name": "stdout",
          "text": [
            "Enter your name:raghav\n",
            "Enter your age:21\n",
            "My name is raghav and My age is 21\n"
          ]
        }
      ]
    },
    {
      "cell_type": "markdown",
      "source": [
        "##3-Write code to print all the pre-defined keywords in Python using the keyword library?"
      ],
      "metadata": {
        "id": "f3e1vZF154QZ"
      }
    },
    {
      "cell_type": "code",
      "source": [
        "help(\"keywords\")"
      ],
      "metadata": {
        "colab": {
          "base_uri": "https://localhost:8080/"
        },
        "id": "p3m30Rb94StM",
        "outputId": "f0868eb1-2f66-479b-907b-67bb1efe8641"
      },
      "execution_count": null,
      "outputs": [
        {
          "output_type": "stream",
          "name": "stdout",
          "text": [
            "\n",
            "Here is a list of the Python keywords.  Enter any keyword to get more help.\n",
            "\n",
            "False               class               from                or\n",
            "None                continue            global              pass\n",
            "True                def                 if                  raise\n",
            "and                 del                 import              return\n",
            "as                  elif                in                  try\n",
            "assert              else                is                  while\n",
            "async               except              lambda              with\n",
            "await               finally             nonlocal            yield\n",
            "break               for                 not                 \n",
            "\n"
          ]
        }
      ]
    },
    {
      "cell_type": "markdown",
      "source": [
        "##4- Write a program that checks if a given word is a Python keyword."
      ],
      "metadata": {
        "id": "dG8QRNkF9CNo"
      }
    },
    {
      "cell_type": "code",
      "source": [
        "weather=\"rainy\"\n",
        "if weather== \"rainy\":\n",
        "  print(\"I will not play Basketball\")\n",
        "else:\n",
        "  print(\"I will play Basketball\")"
      ],
      "metadata": {
        "colab": {
          "base_uri": "https://localhost:8080/"
        },
        "id": "1CmrnrHG93js",
        "outputId": "8db22647-ee4a-4f9e-f00f-385456cabe1f"
      },
      "execution_count": null,
      "outputs": [
        {
          "output_type": "stream",
          "name": "stdout",
          "text": [
            "I will not play Basketball\n"
          ]
        }
      ]
    },
    {
      "cell_type": "markdown",
      "source": [
        "##5- Create a list and tuple in Python, and demonstrate how attempting to change an element works differently for each?\n"
      ],
      "metadata": {
        "id": "9h3J04NP_Hk-"
      }
    },
    {
      "cell_type": "code",
      "source": [
        "list[1,2,3,3.5,3+5j,True,\"Raghav\"]\n",
        "print(list)"
      ],
      "metadata": {
        "colab": {
          "base_uri": "https://localhost:8080/"
        },
        "id": "ZMGEVnvI_NOP",
        "outputId": "4acf13c8-0ed0-468c-e1be-754c71261341"
      },
      "execution_count": null,
      "outputs": [
        {
          "output_type": "stream",
          "name": "stdout",
          "text": [
            "<class 'list'>\n"
          ]
        }
      ]
    },
    {
      "cell_type": "code",
      "source": [
        "# Creating a list\n",
        "my_list = [10, 20, 30]\n",
        "print(\"Original List:\", my_list)\n",
        "\n",
        "# Modifying an element in the list\n",
        "my_list[1] = 99\n",
        "print(\"Modified List:\", my_list)\n",
        "\n",
        "# Creating a tuple\n",
        "my_tuple = (10, 20, 30)\n",
        "print(\"Original Tuple:\", my_tuple)\n",
        "\n",
        "# Attempting to modify an element in the tuple\n",
        "try:\n",
        "    my_tuple[1] = 99  # This will raise a TypeError\n",
        "except TypeError as e:\n",
        "    print(\"Error when trying to modify a tuple:\", e)\n"
      ],
      "metadata": {
        "colab": {
          "base_uri": "https://localhost:8080/"
        },
        "id": "t0WAul2pAJGG",
        "outputId": "5cd2bed6-d517-48c2-848e-90d7b640a3bd"
      },
      "execution_count": null,
      "outputs": [
        {
          "output_type": "stream",
          "name": "stdout",
          "text": [
            "Original List: [10, 20, 30]\n",
            "Modified List: [10, 99, 30]\n",
            "Original Tuple: (10, 20, 30)\n",
            "Error when trying to modify a tuple: 'tuple' object does not support item assignment\n"
          ]
        }
      ]
    },
    {
      "cell_type": "markdown",
      "source": [
        "##6- Write a function to demonstrate the behavior of mutable and immutable arguments."
      ],
      "metadata": {
        "id": "TqmFRHQuQM4M"
      }
    },
    {
      "cell_type": "code",
      "source": [],
      "metadata": {
        "id": "tqpbIkC5PCAP"
      },
      "execution_count": null,
      "outputs": []
    },
    {
      "cell_type": "markdown",
      "source": [
        "##7- Write a program to demonstrate the use of logical operators."
      ],
      "metadata": {
        "id": "VyUj7mswSk2I"
      }
    },
    {
      "cell_type": "code",
      "source": [
        "def logical_operators_demo(a, b, c):\n",
        "    print(f\"Values: a = {a}, b = {b}, c = {c}\")\n",
        "\n",
        "    # Using 'and' operator\n",
        "    print(\"\\nUsing 'and' operator:\")\n",
        "    print(f\"(a > b) and (b < c): {(a > b) and (b < c)}\")\n",
        "    print(f\"(a > b) and (c < b): {(a > b) and (c < b)}\")\n",
        "\n",
        "    # Using 'or' operator\n",
        "    print(\"\\nUsing 'or' operator:\")\n",
        "    print(f\"(a > b) or (c < b): {(a > b) or (c < b)}\")\n",
        "    print(f\"(a < b) or (c > a): {(a < b) or (c > a)}\")\n",
        "\n",
        "    # Using 'not' operator\n",
        "    print(\"\\nUsing 'not' operator:\")\n",
        "    print(f\"not (a > b): {not (a > b)}\")\n",
        "    print(f\"not (b > c): {not (b > c)}\")\n",
        "\n",
        "# Example values\n",
        "a = 10\n",
        "b = 5\n",
        "c = 15\n",
        "\n",
        "logical_operators_demo(a, b, c)\n"
      ],
      "metadata": {
        "colab": {
          "base_uri": "https://localhost:8080/"
        },
        "id": "viQ22_JZUsBU",
        "outputId": "0b20c820-75ae-4bb2-e888-f91cba75c5ee"
      },
      "execution_count": null,
      "outputs": [
        {
          "output_type": "stream",
          "name": "stdout",
          "text": [
            "Values: a = 10, b = 5, c = 15\n",
            "\n",
            "Using 'and' operator:\n",
            "(a > b) and (b < c): True\n",
            "(a > b) and (c < b): False\n",
            "\n",
            "Using 'or' operator:\n",
            "(a > b) or (c < b): True\n",
            "(a < b) or (c > a): True\n",
            "\n",
            "Using 'not' operator:\n",
            "not (a > b): False\n",
            "not (b > c): True\n"
          ]
        }
      ]
    },
    {
      "cell_type": "markdown",
      "source": [
        "##9- Write a Python program to convert user input from string to integer, float, and boolean types."
      ],
      "metadata": {
        "id": "ShRevHZGVaXv"
      }
    },
    {
      "cell_type": "code",
      "source": [
        "def convert_input():\n",
        "    user_input = input(\"Enter a value: \")\n",
        "\n",
        "    # Convert to integer\n",
        "    try:\n",
        "        int_value = int(user_input)\n",
        "        print(f\"Integer conversion: {int_value}\")\n",
        "    except ValueError:\n",
        "        print(\"Cannot convert to integer.\")\n",
        "\n",
        "    # Convert to float\n",
        "    try:\n",
        "        float_value = float(user_input)\n",
        "        print(f\"Float conversion: {float_value}\")\n",
        "    except ValueError:\n",
        "        print(\"Cannot convert to float.\")\n",
        "\n",
        "    # Convert to boolean\n",
        "    bool_value = user_input.lower() in ['true', '1', 'yes', 'y']\n",
        "    print(f\"Boolean conversion: {bool_value}\")\n",
        "\n",
        "# Call the function\n",
        "convert_input()\n"
      ],
      "metadata": {
        "colab": {
          "base_uri": "https://localhost:8080/"
        },
        "id": "5GFp4fdrWbU6",
        "outputId": "37151aed-487f-4423-e268-8ebfa9cdc066"
      },
      "execution_count": null,
      "outputs": [
        {
          "output_type": "stream",
          "name": "stdout",
          "text": [
            "Enter a value: 2\n",
            "Integer conversion: 2\n",
            "Float conversion: 2.0\n",
            "Boolean conversion: False\n"
          ]
        }
      ]
    },
    {
      "cell_type": "markdown",
      "source": [
        "##10- Write code to demonstrate type casting with list elements."
      ],
      "metadata": {
        "id": "qSBWVBaWfwSy"
      }
    },
    {
      "cell_type": "code",
      "source": [
        "def demonstrate_type_casting():\n",
        "    # List with mixed data as strings\n",
        "    data = [\"42\", \"3.14\", \"True\", \"hello\", \"100\"]\n",
        "\n",
        "    print(\"Original list:\", data)\n",
        "\n",
        "    # Attempt to cast each element to different types\n",
        "    for element in data:\n",
        "        print(f\"\\nOriginal element: '{element}'\")\n",
        "\n",
        "        # Cast to integer\n",
        "        try:\n",
        "            int_value = int(element)\n",
        "            print(f\"Integer: {int_value}\")\n",
        "        except ValueError:\n",
        "            print(\"Cannot convert to integer.\")\n",
        "\n",
        "        # Cast to float\n",
        "        try:\n",
        "            float_value = float(element)\n",
        "            print(f\"Float: {float_value}\")\n",
        "        except ValueError:\n",
        "            print(\"Cannot convert to float.\")\n",
        "\n",
        "        # Cast to boolean\n",
        "        bool_value = element.lower() in ['true', '1', 'yes', 'y']\n",
        "        print(f\"Boolean: {bool_value}\")\n",
        "\n",
        "# Call the function\n",
        "demonstrate_type_casting()\n"
      ],
      "metadata": {
        "colab": {
          "base_uri": "https://localhost:8080/"
        },
        "id": "TIdP6d9wgkJ_",
        "outputId": "0db5110e-e8b2-4f34-8f65-3f197be3712e"
      },
      "execution_count": null,
      "outputs": [
        {
          "output_type": "stream",
          "name": "stdout",
          "text": [
            "Original list: ['42', '3.14', 'True', 'hello', '100']\n",
            "\n",
            "Original element: '42'\n",
            "Integer: 42\n",
            "Float: 42.0\n",
            "Boolean: False\n",
            "\n",
            "Original element: '3.14'\n",
            "Cannot convert to integer.\n",
            "Float: 3.14\n",
            "Boolean: False\n",
            "\n",
            "Original element: 'True'\n",
            "Cannot convert to integer.\n",
            "Cannot convert to float.\n",
            "Boolean: True\n",
            "\n",
            "Original element: 'hello'\n",
            "Cannot convert to integer.\n",
            "Cannot convert to float.\n",
            "Boolean: False\n",
            "\n",
            "Original element: '100'\n",
            "Integer: 100\n",
            "Float: 100.0\n",
            "Boolean: False\n"
          ]
        }
      ]
    },
    {
      "cell_type": "markdown",
      "source": [
        "##11- Write a program that checks if a number is positive, negative, or zero."
      ],
      "metadata": {
        "id": "qYlnfpyHjAaR"
      }
    },
    {
      "cell_type": "code",
      "source": [
        "a=10\n",
        "if a>0:\n",
        "  print(\"a is positive\")\n",
        "  if a<0:\n",
        "    print(\"a is negative\")\n",
        "    if a==0:\n",
        "      print(\"a is zero\")"
      ],
      "metadata": {
        "colab": {
          "base_uri": "https://localhost:8080/"
        },
        "id": "Uu7B4Bi4jDgg",
        "outputId": "6a9b452f-4280-4c13-97f9-6f6c431b6222"
      },
      "execution_count": null,
      "outputs": [
        {
          "output_type": "stream",
          "name": "stdout",
          "text": [
            "a is positive\n"
          ]
        }
      ]
    },
    {
      "cell_type": "markdown",
      "source": [
        "##12- Write a for loop to print numbers from 1 to 100"
      ],
      "metadata": {
        "id": "fQ8Ph6kLlr1J"
      }
    },
    {
      "cell_type": "code",
      "source": [
        "n=101 #while loop\n",
        "i=1\n",
        "while i<n:\n",
        "  print(i)\n",
        "  i=i+1"
      ],
      "metadata": {
        "colab": {
          "base_uri": "https://localhost:8080/"
        },
        "id": "zse1sAn3lx7T",
        "outputId": "9178f557-219e-4f99-a390-46c144dae155"
      },
      "execution_count": null,
      "outputs": [
        {
          "output_type": "stream",
          "name": "stdout",
          "text": [
            "1\n",
            "2\n",
            "3\n",
            "4\n",
            "5\n",
            "6\n",
            "7\n",
            "8\n",
            "9\n",
            "10\n",
            "11\n",
            "12\n",
            "13\n",
            "14\n",
            "15\n",
            "16\n",
            "17\n",
            "18\n",
            "19\n",
            "20\n",
            "21\n",
            "22\n",
            "23\n",
            "24\n",
            "25\n",
            "26\n",
            "27\n",
            "28\n",
            "29\n",
            "30\n",
            "31\n",
            "32\n",
            "33\n",
            "34\n",
            "35\n",
            "36\n",
            "37\n",
            "38\n",
            "39\n",
            "40\n",
            "41\n",
            "42\n",
            "43\n",
            "44\n",
            "45\n",
            "46\n",
            "47\n",
            "48\n",
            "49\n",
            "50\n",
            "51\n",
            "52\n",
            "53\n",
            "54\n",
            "55\n",
            "56\n",
            "57\n",
            "58\n",
            "59\n",
            "60\n",
            "61\n",
            "62\n",
            "63\n",
            "64\n",
            "65\n",
            "66\n",
            "67\n",
            "68\n",
            "69\n",
            "70\n",
            "71\n",
            "72\n",
            "73\n",
            "74\n",
            "75\n",
            "76\n",
            "77\n",
            "78\n",
            "79\n",
            "80\n",
            "81\n",
            "82\n",
            "83\n",
            "84\n",
            "85\n",
            "86\n",
            "87\n",
            "88\n",
            "89\n",
            "90\n",
            "91\n",
            "92\n",
            "93\n",
            "94\n",
            "95\n",
            "96\n",
            "97\n",
            "98\n",
            "99\n",
            "100\n"
          ]
        }
      ]
    },
    {
      "cell_type": "code",
      "source": [
        "for i in range(1,101): #for loop\n",
        "  print(i)"
      ],
      "metadata": {
        "colab": {
          "base_uri": "https://localhost:8080/"
        },
        "id": "SeG7AjKGmQ_z",
        "outputId": "9cab2c0a-a264-4cf5-98c6-cac9ad9df871"
      },
      "execution_count": null,
      "outputs": [
        {
          "output_type": "stream",
          "name": "stdout",
          "text": [
            "1\n",
            "2\n",
            "3\n",
            "4\n",
            "5\n",
            "6\n",
            "7\n",
            "8\n",
            "9\n",
            "10\n",
            "11\n",
            "12\n",
            "13\n",
            "14\n",
            "15\n",
            "16\n",
            "17\n",
            "18\n",
            "19\n",
            "20\n",
            "21\n",
            "22\n",
            "23\n",
            "24\n",
            "25\n",
            "26\n",
            "27\n",
            "28\n",
            "29\n",
            "30\n",
            "31\n",
            "32\n",
            "33\n",
            "34\n",
            "35\n",
            "36\n",
            "37\n",
            "38\n",
            "39\n",
            "40\n",
            "41\n",
            "42\n",
            "43\n",
            "44\n",
            "45\n",
            "46\n",
            "47\n",
            "48\n",
            "49\n",
            "50\n",
            "51\n",
            "52\n",
            "53\n",
            "54\n",
            "55\n",
            "56\n",
            "57\n",
            "58\n",
            "59\n",
            "60\n",
            "61\n",
            "62\n",
            "63\n",
            "64\n",
            "65\n",
            "66\n",
            "67\n",
            "68\n",
            "69\n",
            "70\n",
            "71\n",
            "72\n",
            "73\n",
            "74\n",
            "75\n",
            "76\n",
            "77\n",
            "78\n",
            "79\n",
            "80\n",
            "81\n",
            "82\n",
            "83\n",
            "84\n",
            "85\n",
            "86\n",
            "87\n",
            "88\n",
            "89\n",
            "90\n",
            "91\n",
            "92\n",
            "93\n",
            "94\n",
            "95\n",
            "96\n",
            "97\n",
            "98\n",
            "99\n",
            "100\n"
          ]
        }
      ]
    },
    {
      "cell_type": "markdown",
      "source": [
        "##13- Write a Python program to find the sum of all even numbers between 1 and 500."
      ],
      "metadata": {
        "id": "sM1Zo_nUnIOk"
      }
    },
    {
      "cell_type": "code",
      "source": [
        "# Calculate the sum of even numbers from 1 to 500\n",
        "def sum_of_even_numbers():\n",
        "    total = 0\n",
        "    for number in range(2, 501, 2):  # Start at 2, end at 500, step by 2\n",
        "        total += number\n",
        "    return total\n",
        "\n",
        "# Call the function and display the result\n",
        "result = sum_of_even_numbers()\n",
        "print(f\"The sum of all even numbers between 1 and 500 is: {result}\")\n"
      ],
      "metadata": {
        "colab": {
          "base_uri": "https://localhost:8080/"
        },
        "id": "1dONlg8rne9C",
        "outputId": "d19a2a1c-ea7f-46f8-c9b1-b6cee41a978b"
      },
      "execution_count": null,
      "outputs": [
        {
          "output_type": "stream",
          "name": "stdout",
          "text": [
            "The sum of all even numbers between 1 and 500 is: 62750\n"
          ]
        }
      ]
    },
    {
      "cell_type": "markdown",
      "source": [
        "##14- Write a program to reverse a string using a while loop."
      ],
      "metadata": {
        "id": "bICWpM3opeBn"
      }
    },
    {
      "cell_type": "code",
      "source": [
        "def reverse_string(input_string):\n",
        "    reversed_string = \"\"\n",
        "    index = len(input_string) - 1  # Start from the last character\n",
        "\n",
        "    while index >= 0:\n",
        "        reversed_string += input_string[index]\n",
        "        index -= 1  # Move to the previous character\n",
        "\n",
        "    return reversed_string\n",
        "\n",
        "# Input from the user\n",
        "user_input = input(\"Enter a string to reverse: \")\n",
        "\n",
        "# Call the function and display the reversed string\n",
        "reversed_result = reverse_string(user_input)\n",
        "print(f\"Reversed string: {reversed_result}\")\n"
      ],
      "metadata": {
        "colab": {
          "base_uri": "https://localhost:8080/"
        },
        "id": "5f1bnZ8hphiz",
        "outputId": "edbd0d4a-ab15-4d00-daec-4031b510ac69"
      },
      "execution_count": null,
      "outputs": [
        {
          "output_type": "stream",
          "name": "stdout",
          "text": [
            "Enter a string to reverse: RAGHAV\n",
            "Reversed string: VAHGAR\n"
          ]
        }
      ]
    },
    {
      "cell_type": "markdown",
      "source": [
        "##15- Write a Python program to calculate the factorial of a number provided by the user using a while loop."
      ],
      "metadata": {
        "id": "iMHklhIwrqhV"
      }
    },
    {
      "cell_type": "code",
      "source": [
        "def calculate_factorial(number):\n",
        "    if number < 0:\n",
        "        return \"Factorial is not defined for negative numbers.\"\n",
        "    elif number == 0 or number == 1:\n",
        "        return 1\n",
        "\n",
        "    factorial = 1\n",
        "    while number > 1:\n",
        "        factorial *= number\n",
        "        number -= 1\n",
        "    return factorial\n",
        "\n",
        "# Input from the user\n",
        "user_input = int(input(\"Enter a number to calculate its factorial: \"))\n",
        "\n",
        "# Call the function and display the result\n",
        "result = calculate_factorial(user_input)\n",
        "print(f\"The factorial of {user_input} is: {result}\")\n"
      ],
      "metadata": {
        "colab": {
          "base_uri": "https://localhost:8080/"
        },
        "id": "htnsAtr6suXq",
        "outputId": "e9e97b70-d16e-4bba-b223-b572f5dd504b"
      },
      "execution_count": null,
      "outputs": [
        {
          "output_type": "stream",
          "name": "stdout",
          "text": [
            "Enter a number to calculate its factorial: 10\n",
            "The factorial of 10 is: 3628800\n"
          ]
        }
      ]
    },
    {
      "cell_type": "markdown",
      "source": [],
      "metadata": {
        "id": "7d6thlP-sSqj"
      }
    }
  ]
}